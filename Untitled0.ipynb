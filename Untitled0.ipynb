{
  "nbformat": 4,
  "nbformat_minor": 0,
  "metadata": {
    "colab": {
      "provenance": [],
      "toc_visible": true,
      "authorship_tag": "ABX9TyPhPYQa7LnixkKPmzG3oVqd",
      "include_colab_link": true
    },
    "kernelspec": {
      "name": "python3",
      "display_name": "Python 3"
    },
    "language_info": {
      "name": "python"
    }
  },
  "cells": [
    {
      "cell_type": "markdown",
      "metadata": {
        "id": "view-in-github",
        "colab_type": "text"
      },
      "source": [
        "<a href=\"https://colab.research.google.com/github/TheddyZerloti/DIO-Formacao-Java-Developer/blob/main/Untitled0.ipynb\" target=\"_parent\"><img src=\"https://colab.research.google.com/assets/colab-badge.svg\" alt=\"Open In Colab\"/></a>"
      ]
    },
    {
      "cell_type": "code",
      "execution_count": 2,
      "metadata": {
        "colab": {
          "base_uri": "https://localhost:8080/"
        },
        "id": "2W5jxXlwT700",
        "outputId": "7ada94d9-1301-478b-e148-dfc9ea328a83"
      },
      "outputs": [
        {
          "output_type": "stream",
          "name": "stdout",
          "text": [
            "helo Word!\n"
          ]
        }
      ],
      "source": [
        "print (\"helo Word!\")"
      ]
    },
    {
      "cell_type": "code",
      "source": [
        "# Função para cadastrar as notas\n",
        "def cadastrar_notas():\n",
        "    notas = []\n",
        "    while True:\n",
        "        try:\n",
        "            nota = float(input(\"Digite a nota do aluno (ou -1 para finalizar): \"))\n",
        "            if nota == -1:\n",
        "                break\n",
        "            if nota < 0 or nota > 10:\n",
        "                print(\"A nota deve estar entre 0 e 10.\")\n",
        "                continue\n",
        "            notas.append(nota)\n",
        "        except ValueError:\n",
        "            print(\"Por favor, insira um valor numérico.\")\n",
        "    return notas\n",
        "\n",
        "# Função para calcular a média das notas\n",
        "def calcular_media(notas):\n",
        "    if len(notas) == 0:\n",
        "        return 0\n",
        "    return sum(notas) / len(notas)\n",
        "\n",
        "# Função para determinar a situação do aluno\n",
        "def determinar_situacao(media):\n",
        "    if media >= 7:\n",
        "        return \"Aprovado\"\n",
        "    else:\n",
        "        return \"Reprovado\"\n",
        "\n",
        "# Função para exibir o relatório final\n",
        "def exibir_relatorio(notas, media, situacao):\n",
        "    print(\"\\n----- Relatório Final -----\")\n",
        "    print(\"Notas:\", notas)\n",
        "    print(f\"Média: {media:.2f}\")\n",
        "    print(\"Situação:\", situacao)\n",
        "    print(\"--------------------------\")\n",
        "\n",
        "# Função principal\n",
        "def main():\n",
        "    print(\"Bem-vindo ao Sistema de Gestão de Notas de Alunos!\")\n",
        "\n",
        "    # Cadastro de notas\n",
        "    notas = cadastrar_notas()\n",
        "\n",
        "    # Cálculo da média\n",
        "    media = calcular_media(notas)\n",
        "\n",
        "    # Determinação da situação\n",
        "    situacao = determinar_situacao(media)\n",
        "\n",
        "    # Exibição do relatório final\n",
        "    exibir_relatorio(notas, media, situacao)\n",
        "\n",
        "# Chama a função principal\n",
        "if __name__ == \"__main__\":\n",
        "    main()\n"
      ],
      "metadata": {
        "colab": {
          "base_uri": "https://localhost:8080/"
        },
        "id": "FOteLLPNYQys",
        "outputId": "cb34167a-1fa0-4dee-994b-4099eb893183"
      },
      "execution_count": 3,
      "outputs": [
        {
          "output_type": "stream",
          "name": "stdout",
          "text": [
            "Bem-vindo ao Sistema de Gestão de Notas de Alunos!\n",
            "Digite a nota do aluno (ou -1 para finalizar): 7\n",
            "Digite a nota do aluno (ou -1 para finalizar): 9\n",
            "Digite a nota do aluno (ou -1 para finalizar): 8\n",
            "Digite a nota do aluno (ou -1 para finalizar): 5\n",
            "Digite a nota do aluno (ou -1 para finalizar): 1\n",
            "Digite a nota do aluno (ou -1 para finalizar): 1\n",
            "Digite a nota do aluno (ou -1 para finalizar): -1\n",
            "\n",
            "----- Relatório Final -----\n",
            "Notas: [7.0, 9.0, 8.0, 5.0, 1.0, 1.0]\n",
            "Média: 5.17\n",
            "Situação: Reprovado\n",
            "--------------------------\n"
          ]
        }
      ]
    }
  ]
}